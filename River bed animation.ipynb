{
 "cells": [
  {
   "cell_type": "code",
   "execution_count": 1,
   "metadata": {},
   "outputs": [],
   "source": [
    "import pickle\n",
    "import os\n",
    "\n",
    "from matplotlib import animation, pyplot as plt\n",
    "from tifffile import imread, imshow"
   ]
  },
  {
   "cell_type": "code",
   "execution_count": null,
   "metadata": {},
   "outputs": [],
   "source": [
    "dataset = imread(\"Braided River/detrended.tiff\")\n",
    "\n",
    "# Min and max height value in dataset\n",
    "min_value = 3928808\n",
    "max_value = 21311037"
   ]
  },
  {
   "cell_type": "code",
   "execution_count": null,
   "metadata": {},
   "outputs": [],
   "source": [
    "# Basic animation\n",
    "\n",
    "%matplotlib notebook\n",
    "%matplotlib notebook\n",
    "\n",
    "fig = plt.figure(\"Animation of river bed elevation over time\", figsize=(9.5, 3))\n",
    "\n",
    "img = plt.imshow(dataset[0], vmin=min_value, vmax=max_value)\n",
    "\n",
    "def animate(t):\n",
    "    img.set_data(dataset[t])\n",
    "    \n",
    "    plt.title(f\"t = {t}\")\n",
    "    \n",
    "    return img\n",
    "\n",
    "animation.FuncAnimation(fig, animate, frames=len(dataset), interval=10)"
   ]
  },
  {
   "cell_type": "code",
   "execution_count": null,
   "metadata": {},
   "outputs": [],
   "source": [
    "# Computes all local minima below max_height at time t\n",
    "def compute_low_minima(t, max_height):\n",
    "    print(f\"t = {t}\")\n",
    "    \n",
    "    points = []\n",
    "    height_map = dataset[t]\n",
    "    \n",
    "    for i in range(1, len(dataset[t]) - 1):\n",
    "        for j in range(1, len(dataset[t][i]) - 1):\n",
    "            height = height_map[i][j]\n",
    "            \n",
    "            if height <= max_height:\n",
    "                \n",
    "                # Check if the point (i, j) is a local minimum\n",
    "                if (\n",
    "                    height <= height_map[i - 1][j - 1] and height <= height_map[i - 1][j] and height <= height_map[i - 1][j + 1] and\n",
    "                    height <= height_map[i][j - 1] and height <= height_map[i - 1][j + 1] and\n",
    "                    height <= height_map[i + 1][j - 1] and height <= height_map[i + 1][j] and height <= height_map[i + 1][j + 1]\n",
    "                ):\n",
    "                    points.append([i, j])\n",
    "                    \n",
    "    return points"
   ]
  },
  {
   "cell_type": "code",
   "execution_count": null,
   "metadata": {},
   "outputs": [],
   "source": [
    "max_height = 10000000\n",
    "\n",
    "file_name = f\"point_sets_with_max_height_{max_height}\"\n",
    "\n",
    "# If point sets not yet computed for this max_height, compute them (takes long)\n",
    "if not os.path.exists(f\"Point data/{file_name}.data\"):\n",
    "    point_sets_per_timestep = [compute_low_minima(t, max_height) for t in range(len(dataset))]\n",
    "    \n",
    "    with open(f\"Point data/{file_name}.data\", \"wb\") as f:\n",
    "        pickle.dump(point_sets_per_timestep, f)\n",
    "        \n",
    "# If point sets already computed for this max_height, quickly retrieve them\n",
    "else:\n",
    "    with open(f\"Point data/{file_name}.data\", \"rb\") as f:\n",
    "        point_sets_per_timestep = pickle.load(f)"
   ]
  },
  {
   "cell_type": "code",
   "execution_count": null,
   "metadata": {},
   "outputs": [],
   "source": [
    "# Animation with low local minima highlighted\n",
    "\n",
    "%matplotlib notebook\n",
    "%matplotlib notebook\n",
    "\n",
    "fig = plt.figure(f\"Animation of river bed elevation and local minima lower than {max_height} over time\", figsize=(9.5, 3))\n",
    "\n",
    "img = plt.imshow(dataset[0], vmin=min_value, vmax=max_value)\n",
    "scat = plt.scatter(x=[], y=[], c='r', s=30)\n",
    "\n",
    "def animate(t):\n",
    "    img.set_data(dataset[t])\n",
    "\n",
    "    global scat\n",
    "    scat.remove()\n",
    "    scat = plt.scatter(x=[p[1] for p in point_sets_per_timestep[t]], y=[p[0] for p in point_sets_per_timestep[t]], c='r', s=30)\n",
    "\n",
    "    plt.title(f\"t = {t}\")\n",
    "    \n",
    "    return img\n",
    "\n",
    "animation.FuncAnimation(fig, animate, frames=len(dataset), interval=10)"
   ]
  }
 ],
 "metadata": {
  "kernelspec": {
   "display_name": "Python 3",
   "language": "python",
   "name": "python3"
  },
  "language_info": {
   "codemirror_mode": {
    "name": "ipython",
    "version": 3
   },
   "file_extension": ".py",
   "mimetype": "text/x-python",
   "name": "python",
   "nbconvert_exporter": "python",
   "pygments_lexer": "ipython3",
   "version": "3.8.2"
  }
 },
 "nbformat": 4,
 "nbformat_minor": 4
}
